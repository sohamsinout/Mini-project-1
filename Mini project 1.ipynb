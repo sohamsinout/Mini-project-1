{
 "cells": [
  {
   "cell_type": "code",
   "execution_count": null,
   "id": "1d7c3794",
   "metadata": {},
   "outputs": [],
   "source": [
    "import tkinter as tk\n",
    "from tkinter import messagebox\n",
    "import requests\n",
    "\n",
    "def fetch_github_profile():\n",
    "    username = entry.get().strip()\n",
    "    if not username:\n",
    "        messagebox.showerror(\"Input Error\", \"Please enter a GitHub username\")\n",
    "        return\n",
    "\n",
    "    url = f\"https://api.github.com/users/{username}\"\n",
    "    response = requests.get(url)\n",
    "\n",
    "    if response.status_code == 200:\n",
    "        data = response.json()\n",
    "        result = f\"\"\"\n",
    "Name: {data.get('name', 'N/A')}\n",
    "Username: {data.get('login', 'N/A')}\n",
    "Bio: {data.get('bio', 'N/A')}\n",
    "Location: {data.get('location', 'N/A')}\n",
    "Public Repos: {data.get('public_repos', 0)}\n",
    "Followers: {data.get('followers', 0)}\n",
    "Following: {data.get('following', 0)}\n",
    "Profile URL: {data.get('html_url')}\n",
    "\"\"\"\n",
    "        output.delete(\"1.0\", tk.END)\n",
    "        output.insert(tk.END, result)\n",
    "    else:\n",
    "        messagebox.showerror(\"Error\", f\"User '{username}' not found!\")\n",
    "\n",
    "# GUI Setup\n",
    "root = tk.Tk()\n",
    "root.title(\"GitHub Profile Viewer\")\n",
    "root.geometry(\"400x400\")\n",
    "root.resizable(False, False)\n",
    "\n",
    "tk.Label(root, text=\"Enter GitHub Username:\", font=(\"Arial\", 12)).pack(pady=10)\n",
    "entry = tk.Entry(root, width=30, font=(\"Arial\", 12))\n",
    "entry.pack()\n",
    "\n",
    "tk.Button(root, text=\"Fetch Profile\", command=fetch_github_profile, font=(\"Arial\", 12), bg=\"blue\", fg=\"white\").pack(pady=10)\n",
    "\n",
    "output = tk.Text(root, height=15, width=45, font=(\"Courier\", 10))\n",
    "output.pack(pady=10)\n",
    "\n",
    "root.mainloop()"
   ]
  }
 ],
 "metadata": {
  "kernelspec": {
   "display_name": "Python 3 (ipykernel)",
   "language": "python",
   "name": "python3"
  },
  "language_info": {
   "codemirror_mode": {
    "name": "ipython",
    "version": 3
   },
   "file_extension": ".py",
   "mimetype": "text/x-python",
   "name": "python",
   "nbconvert_exporter": "python",
   "pygments_lexer": "ipython3",
   "version": "3.13.4"
  }
 },
 "nbformat": 4,
 "nbformat_minor": 5
}
